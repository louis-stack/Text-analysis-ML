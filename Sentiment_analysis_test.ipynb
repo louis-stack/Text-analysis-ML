{
 "cells": [
  {
   "cell_type": "markdown",
   "metadata": {
    "id": "jev6eKsjaKyM"
   },
   "source": [
    "## Test goal 🎯\n",
    "\n",
    "The goal of the test is to create a model able to classify documents into two sentiment categories **positive** or **negative**.\n",
    "\n",
    "**Datasets**\n",
    "\n",
    "Train dataset (train.txt file) contains 25000 documents, the first 12500 are positive, the last 12500 are negative.\n",
    "\n",
    "Test dataset (test.txt file) contains 25000 documents to assess, the first 12500 are positive, the last 12500 are negative.\n",
    "\n",
    "You will be guided through the different stages of the model developement."
   ]
  },
  {
   "attachments": {},
   "cell_type": "markdown",
   "metadata": {
    "id": "i5xfuWiyfbvw"
   },
   "source": [
    "**Question 1 :** Load train and test data into dataframes"
   ]
  },
  {
   "cell_type": "code",
   "execution_count": 4,
   "metadata": {
    "id": "7BgN1Awvf6yP"
   },
   "outputs": [
    {
     "name": "stdout",
     "output_type": "stream",
     "text": [
      "train_df shape : (25000, 1)\n"
     ]
    },
    {
     "data": {
      "text/html": [
       "<div>\n",
       "<style scoped>\n",
       "    .dataframe tbody tr th:only-of-type {\n",
       "        vertical-align: middle;\n",
       "    }\n",
       "\n",
       "    .dataframe tbody tr th {\n",
       "        vertical-align: top;\n",
       "    }\n",
       "\n",
       "    .dataframe thead th {\n",
       "        text-align: right;\n",
       "    }\n",
       "</style>\n",
       "<table border=\"1\" class=\"dataframe\">\n",
       "  <thead>\n",
       "    <tr style=\"text-align: right;\">\n",
       "      <th></th>\n",
       "      <th>data</th>\n",
       "    </tr>\n",
       "  </thead>\n",
       "  <tbody>\n",
       "    <tr>\n",
       "      <th>0</th>\n",
       "      <td>Bromwell High is a cartoon comedy. It ran at t...</td>\n",
       "    </tr>\n",
       "    <tr>\n",
       "      <th>1</th>\n",
       "      <td>Homelessness (or Houselessness as George Carli...</td>\n",
       "    </tr>\n",
       "    <tr>\n",
       "      <th>2</th>\n",
       "      <td>Brilliant over-acting by Lesley Ann Warren. Be...</td>\n",
       "    </tr>\n",
       "    <tr>\n",
       "      <th>3</th>\n",
       "      <td>This is easily the most underrated film inn th...</td>\n",
       "    </tr>\n",
       "    <tr>\n",
       "      <th>4</th>\n",
       "      <td>This is not the typical Mel Brooks film. It wa...</td>\n",
       "    </tr>\n",
       "  </tbody>\n",
       "</table>\n",
       "</div>"
      ],
      "text/plain": [
       "                                                data\n",
       "0  Bromwell High is a cartoon comedy. It ran at t...\n",
       "1  Homelessness (or Houselessness as George Carli...\n",
       "2  Brilliant over-acting by Lesley Ann Warren. Be...\n",
       "3  This is easily the most underrated film inn th...\n",
       "4  This is not the typical Mel Brooks film. It wa..."
      ]
     },
     "metadata": {},
     "output_type": "display_data"
    },
    {
     "name": "stdout",
     "output_type": "stream",
     "text": [
      "\n",
      "test_df shape : (25000, 1)\n"
     ]
    },
    {
     "data": {
      "text/html": [
       "<div>\n",
       "<style scoped>\n",
       "    .dataframe tbody tr th:only-of-type {\n",
       "        vertical-align: middle;\n",
       "    }\n",
       "\n",
       "    .dataframe tbody tr th {\n",
       "        vertical-align: top;\n",
       "    }\n",
       "\n",
       "    .dataframe thead th {\n",
       "        text-align: right;\n",
       "    }\n",
       "</style>\n",
       "<table border=\"1\" class=\"dataframe\">\n",
       "  <thead>\n",
       "    <tr style=\"text-align: right;\">\n",
       "      <th></th>\n",
       "      <th>data</th>\n",
       "    </tr>\n",
       "  </thead>\n",
       "  <tbody>\n",
       "    <tr>\n",
       "      <th>0</th>\n",
       "      <td>I went and saw this movie last night after bei...</td>\n",
       "    </tr>\n",
       "    <tr>\n",
       "      <th>1</th>\n",
       "      <td>Actor turned director Bill Paxton follows up h...</td>\n",
       "    </tr>\n",
       "    <tr>\n",
       "      <th>2</th>\n",
       "      <td>As a recreational golfer with some knowledge o...</td>\n",
       "    </tr>\n",
       "    <tr>\n",
       "      <th>3</th>\n",
       "      <td>I saw this film in a sneak preview, and it is ...</td>\n",
       "    </tr>\n",
       "    <tr>\n",
       "      <th>4</th>\n",
       "      <td>Bill Paxton has taken the true story of the 19...</td>\n",
       "    </tr>\n",
       "  </tbody>\n",
       "</table>\n",
       "</div>"
      ],
      "text/plain": [
       "                                                data\n",
       "0  I went and saw this movie last night after bei...\n",
       "1  Actor turned director Bill Paxton follows up h...\n",
       "2  As a recreational golfer with some knowledge o...\n",
       "3  I saw this film in a sneak preview, and it is ...\n",
       "4  Bill Paxton has taken the true story of the 19..."
      ]
     },
     "metadata": {},
     "output_type": "display_data"
    }
   ],
   "source": [
    "import pandas as pd\n",
    "\n",
    "# read train data\n",
    "with open(\"train.txt\", \"r\", encoding=\"utf-8\") as f:\n",
    "    train_lines = f.readlines()\n",
    "\n",
    "# creation of a dataframe from train data\n",
    "train_df = pd.DataFrame(train_lines, columns=[\"data\"])\n",
    "\n",
    "# read test data\n",
    "with open(\"test.txt\", \"r\", encoding=\"utf-8\") as f:\n",
    "    test_lines = f.readlines()\n",
    "\n",
    "# creation of a dataframe from test date\n",
    "test_df = pd.DataFrame(test_lines, columns=[\"data\"])\n",
    "\n",
    "print(\"train_df shape :\", train_df.shape)\n",
    "display(train_df.head(5))\n",
    "print(\"\\ntest_df shape :\", test_df.shape)\n",
    "display(test_df.head(5))\n"
   ]
  },
  {
   "cell_type": "markdown",
   "metadata": {
    "id": "YB28tkw7f-72"
   },
   "source": [
    "\n",
    "**Question 2:** Once the train and test data set are loaded, add to each dataframe a \"label\" column that contains the sentiment of the documents. In each file, the first half of the documents have positive sentiment and the second half have negative sentiment."
   ]
  },
  {
   "cell_type": "code",
   "execution_count": 5,
   "metadata": {
    "id": "zcCJhhXhidRD"
   },
   "outputs": [
    {
     "name": "stdout",
     "output_type": "stream",
     "text": [
      "\n",
      "train_df\n",
      "\n"
     ]
    },
    {
     "data": {
      "text/html": [
       "<div>\n",
       "<style scoped>\n",
       "    .dataframe tbody tr th:only-of-type {\n",
       "        vertical-align: middle;\n",
       "    }\n",
       "\n",
       "    .dataframe tbody tr th {\n",
       "        vertical-align: top;\n",
       "    }\n",
       "\n",
       "    .dataframe thead th {\n",
       "        text-align: right;\n",
       "    }\n",
       "</style>\n",
       "<table border=\"1\" class=\"dataframe\">\n",
       "  <thead>\n",
       "    <tr style=\"text-align: right;\">\n",
       "      <th></th>\n",
       "      <th>data</th>\n",
       "      <th>label</th>\n",
       "    </tr>\n",
       "  </thead>\n",
       "  <tbody>\n",
       "    <tr>\n",
       "      <th>12498</th>\n",
       "      <td>A Christmas Together actually came before my t...</td>\n",
       "      <td>1</td>\n",
       "    </tr>\n",
       "    <tr>\n",
       "      <th>12499</th>\n",
       "      <td>Working-class romantic drama from director Mar...</td>\n",
       "      <td>1</td>\n",
       "    </tr>\n",
       "    <tr>\n",
       "      <th>12500</th>\n",
       "      <td>Story of a man who has unnatural feelings for ...</td>\n",
       "      <td>0</td>\n",
       "    </tr>\n",
       "    <tr>\n",
       "      <th>12501</th>\n",
       "      <td>Airport '77 starts as a brand new luxury 747 p...</td>\n",
       "      <td>0</td>\n",
       "    </tr>\n",
       "  </tbody>\n",
       "</table>\n",
       "</div>"
      ],
      "text/plain": [
       "                                                    data  label\n",
       "12498  A Christmas Together actually came before my t...      1\n",
       "12499  Working-class romantic drama from director Mar...      1\n",
       "12500  Story of a man who has unnatural feelings for ...      0\n",
       "12501  Airport '77 starts as a brand new luxury 747 p...      0"
      ]
     },
     "metadata": {},
     "output_type": "display_data"
    },
    {
     "name": "stdout",
     "output_type": "stream",
     "text": [
      "\n",
      "test_df\n",
      "\n"
     ]
    },
    {
     "data": {
      "text/html": [
       "<div>\n",
       "<style scoped>\n",
       "    .dataframe tbody tr th:only-of-type {\n",
       "        vertical-align: middle;\n",
       "    }\n",
       "\n",
       "    .dataframe tbody tr th {\n",
       "        vertical-align: top;\n",
       "    }\n",
       "\n",
       "    .dataframe thead th {\n",
       "        text-align: right;\n",
       "    }\n",
       "</style>\n",
       "<table border=\"1\" class=\"dataframe\">\n",
       "  <thead>\n",
       "    <tr style=\"text-align: right;\">\n",
       "      <th></th>\n",
       "      <th>data</th>\n",
       "      <th>label</th>\n",
       "    </tr>\n",
       "  </thead>\n",
       "  <tbody>\n",
       "    <tr>\n",
       "      <th>12498</th>\n",
       "      <td>This movie, with all its complexity and subtle...</td>\n",
       "      <td>1</td>\n",
       "    </tr>\n",
       "    <tr>\n",
       "      <th>12499</th>\n",
       "      <td>I've seen this story before but my kids haven'...</td>\n",
       "      <td>1</td>\n",
       "    </tr>\n",
       "    <tr>\n",
       "      <th>12500</th>\n",
       "      <td>Once again Mr. Costner has dragged out a movie...</td>\n",
       "      <td>0</td>\n",
       "    </tr>\n",
       "    <tr>\n",
       "      <th>12501</th>\n",
       "      <td>This is an example of why the majority of acti...</td>\n",
       "      <td>0</td>\n",
       "    </tr>\n",
       "  </tbody>\n",
       "</table>\n",
       "</div>"
      ],
      "text/plain": [
       "                                                    data  label\n",
       "12498  This movie, with all its complexity and subtle...      1\n",
       "12499  I've seen this story before but my kids haven'...      1\n",
       "12500  Once again Mr. Costner has dragged out a movie...      0\n",
       "12501  This is an example of why the majority of acti...      0"
      ]
     },
     "metadata": {},
     "output_type": "display_data"
    }
   ],
   "source": [
    "# add label column to train data frame\n",
    "train_df['label'] = [1] * 12500 + [0] * 12500\n",
    "\n",
    "# add label column to test data frame\n",
    "test_df['label'] = [1] * 12500 + [0] * 12500\n",
    "\n",
    "print(\"\\ntrain_df\\n\")\n",
    "display(train_df.iloc[12498:12502])\n",
    "print(\"\\ntest_df\\n\")\n",
    "display(test_df.iloc[12498:12502])"
   ]
  },
  {
   "attachments": {},
   "cell_type": "markdown",
   "metadata": {
    "id": "S9cVdPRYmbao"
   },
   "source": [
    "**Question 3:** Before transforming the documents to format understandable by machine learning algorithms, we first need to clean their content. The following regex expressions might be helpful.\n",
    "\n",
    "```\n",
    "<br /><br /> # matchs html tags\n",
    "[^\\x00-\\x7f] # matchs hexadecimal caracters\n",
    "[^\\w\\s] # matchs all words in a documents\n",
    "[0-9]+[a-z]* # matchs all alphabetical characters\n",
    "```"
   ]
  },
  {
   "cell_type": "code",
   "execution_count": 6,
   "metadata": {
    "id": "xr3BRb31pi1S"
   },
   "outputs": [],
   "source": [
    "import re\n",
    "\n",
    "def clean_text(text):\n",
    "    # remove html tags\n",
    "    text = re.sub('<br /><br />', ' ', text)\n",
    "    \n",
    "    # remove hexadecimal characters\n",
    "    text = re.sub('[^\\x00-\\x7f]+', ' ', text)\n",
    "    \n",
    "    # remove punctuation and digits\n",
    "    text = re.sub('[^\\w\\s]+', '', text)\n",
    "    text = re.sub('[0-9]+[a-z]*', '', text)\n",
    "    \n",
    "    # remove excessive whitespaces\n",
    "    text = re.sub('\\s+', ' ', text).strip()\n",
    "    \n",
    "    return text\n",
    "\n",
    "# Apply the cleanup function to each document in train_df\n",
    "train_df['data'] = train_df['data'].apply(clean_text)\n",
    "\n",
    "# Apply the cleanup function to each test_df document\n",
    "test_df['data'] = test_df['data'].apply(clean_text)\n"
   ]
  },
  {
   "cell_type": "markdown",
   "metadata": {
    "id": "6mOnuxF_pltW"
   },
   "source": [
    "**Question 4:** Now documents content is clean, we have to tokenize the documents and transform them into vectors using text tokenizer from Keras (don't forget to pad the resulting vectors from the tokenization to make sure all vectors have the same size)"
   ]
  },
  {
   "cell_type": "code",
   "execution_count": 19,
   "metadata": {
    "id": "oi8OD4ab1Hrr"
   },
   "outputs": [],
   "source": [
    "from tensorflow.keras.preprocessing.text import Tokenizer\n",
    "from tensorflow.keras.preprocessing.sequence import pad_sequences\n",
    "\n",
    "# initialize tokenizer\n",
    "tokenizer = Tokenizer(num_words=10000)\n",
    "\n",
    "# fit on clean text\n",
    "tokenizer.fit_on_texts(train_df['data'])\n",
    "\n",
    "# convert text to sequences\n",
    "train_sequences = tokenizer.texts_to_sequences(train_df['data'])\n",
    "test_sequences = tokenizer.texts_to_sequences(test_df['data'])\n",
    "\n",
    "# pad sequences\n",
    "train_padded_sequences = pad_sequences(train_sequences, maxlen=500)\n",
    "test_padded_sequences = pad_sequences(test_sequences, maxlen=500)\n"
   ]
  },
  {
   "cell_type": "markdown",
   "metadata": {
    "id": "YQfYCWV82tZ7"
   },
   "source": [
    "**Question 5:** Create and train a deep learning model using Keras to classify the documents.\n",
    "\n",
    "Hint1: use an Emebedding layer, you can use CNN, RNN and Feed Forward layers, no need for a transformer model in this case\n",
    "\n",
    "Hint2: In case you do not have access to a GPU, you may use a portion of the train dataset to train the model  (also colab notebook give access to gpus for free)"
   ]
  },
  {
   "cell_type": "code",
   "execution_count": 8,
   "metadata": {
    "id": "_RTgK07K3h4U"
   },
   "outputs": [
    {
     "name": "stdout",
     "output_type": "stream",
     "text": [
      "Epoch 1/5\n",
      "782/782 [==============================] - 47s 59ms/step - loss: 0.3661 - accuracy: 0.8259\n",
      "Epoch 2/5\n",
      "782/782 [==============================] - 39s 50ms/step - loss: 0.1680 - accuracy: 0.9364\n",
      "Epoch 3/5\n",
      "782/782 [==============================] - 44s 57ms/step - loss: 0.0759 - accuracy: 0.9744\n",
      "Epoch 4/5\n",
      "782/782 [==============================] - 48s 61ms/step - loss: 0.0269 - accuracy: 0.9920\n",
      "Epoch 5/5\n",
      "782/782 [==============================] - 44s 56ms/step - loss: 0.0100 - accuracy: 0.9974\n"
     ]
    },
    {
     "data": {
      "text/plain": [
       "<keras.callbacks.History at 0x242ce1a9a10>"
      ]
     },
     "execution_count": 8,
     "metadata": {},
     "output_type": "execute_result"
    }
   ],
   "source": [
    "from tensorflow.keras.models import Sequential\n",
    "from tensorflow.keras.layers import Embedding, Conv1D, MaxPooling1D, Flatten, Dense\n",
    "\n",
    "# define model\n",
    "model = Sequential()\n",
    "\n",
    "#Embedding layer : turns words into numerical form called vectors \n",
    "# (Each words are turned into a 128 dim vector)\n",
    "model.add(Embedding(10000, 128, input_length=500))\n",
    "\n",
    "#Convolution layer : extract important features from the text by scanning the embedding vectors of each word \n",
    "# (We have 64 filters wich runs through 5 words at a time)\n",
    "model.add(Conv1D(64, 5, activation='relu'))\n",
    "\n",
    "#Pooling layer : reduce the dimention output of the convolution layer \n",
    "# (We keep only the maximum value of each window traversed by the convolution filter)\n",
    "model.add(MaxPooling1D(pool_size=4))\n",
    "\n",
    "#Flatten layer : transforms the input data into a one-dimensional vector\n",
    "model.add(Flatten())\n",
    "\n",
    "#Activation sigmoïd function : generates an outpout beetween 0 or 1\n",
    "model.add(Dense(1, activation='sigmoid'))\n",
    "\n",
    "# compile model\n",
    "model.compile(loss='binary_crossentropy', optimizer='adam', metrics=['accuracy'])\n",
    "\n",
    "# fit model\n",
    "model.fit(train_padded_sequences, train_df['label'], epochs=5, batch_size=32)"
   ]
  },
  {
   "cell_type": "markdown",
   "metadata": {
    "id": "hxMgxdnR3rJN"
   },
   "source": [
    "**Question 6:** Evaluate the model on the test dataset using the metrics of your choice"
   ]
  },
  {
   "cell_type": "code",
   "execution_count": 18,
   "metadata": {
    "id": "slX8zt114gmS"
   },
   "outputs": [
    {
     "name": "stdout",
     "output_type": "stream",
     "text": [
      "782/782 [==============================] - 7s 9ms/step - loss: 0.6449 - accuracy: 0.8676\n",
      "\n",
      "Test Loss: 0.6448918581008911\n",
      "Test Accuracy: 0.8676400184631348 \n",
      "\n"
     ]
    }
   ],
   "source": [
    "# evaluate model\n",
    "loss, accuracy = model.evaluate(test_padded_sequences, test_df['label'])\n",
    "\n",
    "print('\\nTest Loss:', loss)\n",
    "print('Test Accuracy:', accuracy, \"\\n\")\n"
   ]
  },
  {
   "attachments": {},
   "cell_type": "markdown",
   "metadata": {},
   "source": [
    "**Conclusion**: Overall, a model with an accuracy of 86% is quite efficient, but it can be further improved by fine-tuning the hyperparameters (ex : eta, number of layers, number of neurons, batch size, etc...) or using other types of deep learning models. In addition, a more detailed analysis can be performed with other indicators such as a confusion matrix, recall, MSE, etc..."
   ]
  }
 ],
 "metadata": {
  "accelerator": "GPU",
  "colab": {
   "provenance": []
  },
  "gpuClass": "standard",
  "kernelspec": {
   "display_name": "Python 3",
   "language": "python",
   "name": "python3"
  },
  "language_info": {
   "codemirror_mode": {
    "name": "ipython",
    "version": 3
   },
   "file_extension": ".py",
   "mimetype": "text/x-python",
   "name": "python",
   "nbconvert_exporter": "python",
   "pygments_lexer": "ipython3",
   "version": "3.11.2"
  },
  "vscode": {
   "interpreter": {
    "hash": "1b99ff67b40dbeb3d3f51b38f7b4ea8cde4c2bee889619c7ad0240fb7e21d076"
   }
  }
 },
 "nbformat": 4,
 "nbformat_minor": 1
}
